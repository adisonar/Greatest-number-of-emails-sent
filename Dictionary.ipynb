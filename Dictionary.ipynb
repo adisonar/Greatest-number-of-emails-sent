{
 "cells": [
  {
   "cell_type": "code",
   "execution_count": null,
   "metadata": {},
   "outputs": [],
   "source": [
    "#Write a program to read through the mbox-short.txt and figure out who has sent the greatest number of mail messages.\n",
    "#The program looks for 'From ' lines and takes the second word of those lines as the person who sent the mail.\n",
    "#The program creates a Python dictionary that maps the sender's mail address to a count of the number of times they appear in the file.\n",
    "#After the dictionary is produced, the program reads through the dictionary using a maximum loop to find the most prolific committer.\n",
    "\n",
    "\n",
    "name = input(\"Enter file:\")\n",
    "handle = open(name)\n",
    "\n",
    "counts = dict()\n",
    "for line in handle:\n",
    "    if not line.startswith('From '):\n",
    "        continue\n",
    "    words = line.split()\n",
    "    senders = words[1]\n",
    "    #print(senders)\n",
    "    counts[senders] = counts.get(senders, 0) + 1\n",
    "        \n",
    "bigcount = None\n",
    "bigword = None\n",
    "#print(counts.items())\n",
    "for senders,count in counts.items():\n",
    "    if bigcount is None or count > bigcount:\n",
    "        bigword = senders\n",
    "        bigcount = count\n",
    "        \n",
    "print(bigword, bigcount)"
   ]
  }
 ],
 "metadata": {
  "kernelspec": {
   "display_name": "Python 3",
   "language": "python",
   "name": "python3"
  },
  "language_info": {
   "codemirror_mode": {
    "name": "ipython",
    "version": 3
   },
   "file_extension": ".py",
   "mimetype": "text/x-python",
   "name": "python",
   "nbconvert_exporter": "python",
   "pygments_lexer": "ipython3",
   "version": "3.7.6"
  }
 },
 "nbformat": 4,
 "nbformat_minor": 4
}
